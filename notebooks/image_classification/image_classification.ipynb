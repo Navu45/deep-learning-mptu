{
 "nbformat": 4,
 "nbformat_minor": 0,
 "metadata": {
  "colab": {
   "provenance": []
  },
  "kernelspec": {
   "name": "python3",
   "display_name": "Python 3"
  },
  "language_info": {
   "name": "python"
  },
  "accelerator": "GPU",
  "gpuClass": "standard",
  "widgets": {
   "application/vnd.jupyter.widget-state+json": {
    "8aa9741d76b34dc79364f2f9a3312f9b": {
     "model_module": "@jupyter-widgets/controls",
     "model_name": "HBoxModel",
     "model_module_version": "1.5.0",
     "state": {
      "_dom_classes": [],
      "_model_module": "@jupyter-widgets/controls",
      "_model_module_version": "1.5.0",
      "_model_name": "HBoxModel",
      "_view_count": null,
      "_view_module": "@jupyter-widgets/controls",
      "_view_module_version": "1.5.0",
      "_view_name": "HBoxView",
      "box_style": "",
      "children": [
       "IPY_MODEL_18e5f62058c24fb8b7a893248efb52ac",
       "IPY_MODEL_8f590708c1414f21a8e186e70dd9cda5",
       "IPY_MODEL_fec0d488f7e7453286d303dc34936ae4"
      ],
      "layout": "IPY_MODEL_826a0d9b55c34cf5ae1bb5ec57f1ac00"
     }
    },
    "18e5f62058c24fb8b7a893248efb52ac": {
     "model_module": "@jupyter-widgets/controls",
     "model_name": "HTMLModel",
     "model_module_version": "1.5.0",
     "state": {
      "_dom_classes": [],
      "_model_module": "@jupyter-widgets/controls",
      "_model_module_version": "1.5.0",
      "_model_name": "HTMLModel",
      "_view_count": null,
      "_view_module": "@jupyter-widgets/controls",
      "_view_module_version": "1.5.0",
      "_view_name": "HTMLView",
      "description": "",
      "description_tooltip": null,
      "layout": "IPY_MODEL_dd47a4f0ce064e2995c4cd670b2e61da",
      "placeholder": "​",
      "style": "IPY_MODEL_4a3651b096314bbe953fea46fe6cc05a",
      "value": "100%"
     }
    },
    "8f590708c1414f21a8e186e70dd9cda5": {
     "model_module": "@jupyter-widgets/controls",
     "model_name": "FloatProgressModel",
     "model_module_version": "1.5.0",
     "state": {
      "_dom_classes": [],
      "_model_module": "@jupyter-widgets/controls",
      "_model_module_version": "1.5.0",
      "_model_name": "FloatProgressModel",
      "_view_count": null,
      "_view_module": "@jupyter-widgets/controls",
      "_view_module_version": "1.5.0",
      "_view_name": "ProgressView",
      "bar_style": "success",
      "description": "",
      "description_tooltip": null,
      "layout": "IPY_MODEL_16fc61036368404cb6a4a5c1568e8782",
      "max": 20933,
      "min": 0,
      "orientation": "horizontal",
      "style": "IPY_MODEL_223d17ef54744bd383c36b65af9a1d71",
      "value": 20933
     }
    },
    "fec0d488f7e7453286d303dc34936ae4": {
     "model_module": "@jupyter-widgets/controls",
     "model_name": "HTMLModel",
     "model_module_version": "1.5.0",
     "state": {
      "_dom_classes": [],
      "_model_module": "@jupyter-widgets/controls",
      "_model_module_version": "1.5.0",
      "_model_name": "HTMLModel",
      "_view_count": null,
      "_view_module": "@jupyter-widgets/controls",
      "_view_module_version": "1.5.0",
      "_view_name": "HTMLView",
      "description": "",
      "description_tooltip": null,
      "layout": "IPY_MODEL_800b4bf562bf4d4e964cc2ceca858896",
      "placeholder": "​",
      "style": "IPY_MODEL_5b74f9a858d54f29ba1362deeb543998",
      "value": " 20933/20933 [02:45&lt;00:00, 134.90it/s]"
     }
    },
    "826a0d9b55c34cf5ae1bb5ec57f1ac00": {
     "model_module": "@jupyter-widgets/base",
     "model_name": "LayoutModel",
     "model_module_version": "1.2.0",
     "state": {
      "_model_module": "@jupyter-widgets/base",
      "_model_module_version": "1.2.0",
      "_model_name": "LayoutModel",
      "_view_count": null,
      "_view_module": "@jupyter-widgets/base",
      "_view_module_version": "1.2.0",
      "_view_name": "LayoutView",
      "align_content": null,
      "align_items": null,
      "align_self": null,
      "border": null,
      "bottom": null,
      "display": null,
      "flex": null,
      "flex_flow": null,
      "grid_area": null,
      "grid_auto_columns": null,
      "grid_auto_flow": null,
      "grid_auto_rows": null,
      "grid_column": null,
      "grid_gap": null,
      "grid_row": null,
      "grid_template_areas": null,
      "grid_template_columns": null,
      "grid_template_rows": null,
      "height": null,
      "justify_content": null,
      "justify_items": null,
      "left": null,
      "margin": null,
      "max_height": null,
      "max_width": null,
      "min_height": null,
      "min_width": null,
      "object_fit": null,
      "object_position": null,
      "order": null,
      "overflow": null,
      "overflow_x": null,
      "overflow_y": null,
      "padding": null,
      "right": null,
      "top": null,
      "visibility": null,
      "width": null
     }
    },
    "dd47a4f0ce064e2995c4cd670b2e61da": {
     "model_module": "@jupyter-widgets/base",
     "model_name": "LayoutModel",
     "model_module_version": "1.2.0",
     "state": {
      "_model_module": "@jupyter-widgets/base",
      "_model_module_version": "1.2.0",
      "_model_name": "LayoutModel",
      "_view_count": null,
      "_view_module": "@jupyter-widgets/base",
      "_view_module_version": "1.2.0",
      "_view_name": "LayoutView",
      "align_content": null,
      "align_items": null,
      "align_self": null,
      "border": null,
      "bottom": null,
      "display": null,
      "flex": null,
      "flex_flow": null,
      "grid_area": null,
      "grid_auto_columns": null,
      "grid_auto_flow": null,
      "grid_auto_rows": null,
      "grid_column": null,
      "grid_gap": null,
      "grid_row": null,
      "grid_template_areas": null,
      "grid_template_columns": null,
      "grid_template_rows": null,
      "height": null,
      "justify_content": null,
      "justify_items": null,
      "left": null,
      "margin": null,
      "max_height": null,
      "max_width": null,
      "min_height": null,
      "min_width": null,
      "object_fit": null,
      "object_position": null,
      "order": null,
      "overflow": null,
      "overflow_x": null,
      "overflow_y": null,
      "padding": null,
      "right": null,
      "top": null,
      "visibility": null,
      "width": null
     }
    },
    "4a3651b096314bbe953fea46fe6cc05a": {
     "model_module": "@jupyter-widgets/controls",
     "model_name": "DescriptionStyleModel",
     "model_module_version": "1.5.0",
     "state": {
      "_model_module": "@jupyter-widgets/controls",
      "_model_module_version": "1.5.0",
      "_model_name": "DescriptionStyleModel",
      "_view_count": null,
      "_view_module": "@jupyter-widgets/base",
      "_view_module_version": "1.2.0",
      "_view_name": "StyleView",
      "description_width": ""
     }
    },
    "16fc61036368404cb6a4a5c1568e8782": {
     "model_module": "@jupyter-widgets/base",
     "model_name": "LayoutModel",
     "model_module_version": "1.2.0",
     "state": {
      "_model_module": "@jupyter-widgets/base",
      "_model_module_version": "1.2.0",
      "_model_name": "LayoutModel",
      "_view_count": null,
      "_view_module": "@jupyter-widgets/base",
      "_view_module_version": "1.2.0",
      "_view_name": "LayoutView",
      "align_content": null,
      "align_items": null,
      "align_self": null,
      "border": null,
      "bottom": null,
      "display": null,
      "flex": null,
      "flex_flow": null,
      "grid_area": null,
      "grid_auto_columns": null,
      "grid_auto_flow": null,
      "grid_auto_rows": null,
      "grid_column": null,
      "grid_gap": null,
      "grid_row": null,
      "grid_template_areas": null,
      "grid_template_columns": null,
      "grid_template_rows": null,
      "height": null,
      "justify_content": null,
      "justify_items": null,
      "left": null,
      "margin": null,
      "max_height": null,
      "max_width": null,
      "min_height": null,
      "min_width": null,
      "object_fit": null,
      "object_position": null,
      "order": null,
      "overflow": null,
      "overflow_x": null,
      "overflow_y": null,
      "padding": null,
      "right": null,
      "top": null,
      "visibility": null,
      "width": null
     }
    },
    "223d17ef54744bd383c36b65af9a1d71": {
     "model_module": "@jupyter-widgets/controls",
     "model_name": "ProgressStyleModel",
     "model_module_version": "1.5.0",
     "state": {
      "_model_module": "@jupyter-widgets/controls",
      "_model_module_version": "1.5.0",
      "_model_name": "ProgressStyleModel",
      "_view_count": null,
      "_view_module": "@jupyter-widgets/base",
      "_view_module_version": "1.2.0",
      "_view_name": "StyleView",
      "bar_color": null,
      "description_width": ""
     }
    },
    "800b4bf562bf4d4e964cc2ceca858896": {
     "model_module": "@jupyter-widgets/base",
     "model_name": "LayoutModel",
     "model_module_version": "1.2.0",
     "state": {
      "_model_module": "@jupyter-widgets/base",
      "_model_module_version": "1.2.0",
      "_model_name": "LayoutModel",
      "_view_count": null,
      "_view_module": "@jupyter-widgets/base",
      "_view_module_version": "1.2.0",
      "_view_name": "LayoutView",
      "align_content": null,
      "align_items": null,
      "align_self": null,
      "border": null,
      "bottom": null,
      "display": null,
      "flex": null,
      "flex_flow": null,
      "grid_area": null,
      "grid_auto_columns": null,
      "grid_auto_flow": null,
      "grid_auto_rows": null,
      "grid_column": null,
      "grid_gap": null,
      "grid_row": null,
      "grid_template_areas": null,
      "grid_template_columns": null,
      "grid_template_rows": null,
      "height": null,
      "justify_content": null,
      "justify_items": null,
      "left": null,
      "margin": null,
      "max_height": null,
      "max_width": null,
      "min_height": null,
      "min_width": null,
      "object_fit": null,
      "object_position": null,
      "order": null,
      "overflow": null,
      "overflow_x": null,
      "overflow_y": null,
      "padding": null,
      "right": null,
      "top": null,
      "visibility": null,
      "width": null
     }
    },
    "5b74f9a858d54f29ba1362deeb543998": {
     "model_module": "@jupyter-widgets/controls",
     "model_name": "DescriptionStyleModel",
     "model_module_version": "1.5.0",
     "state": {
      "_model_module": "@jupyter-widgets/controls",
      "_model_module_version": "1.5.0",
      "_model_name": "DescriptionStyleModel",
      "_view_count": null,
      "_view_module": "@jupyter-widgets/base",
      "_view_module_version": "1.2.0",
      "_view_name": "StyleView",
      "description_width": ""
     }
    },
    "99c60a9931d54a9bb7fed3fb4cd60b74": {
     "model_module": "@jupyter-widgets/controls",
     "model_name": "HBoxModel",
     "model_module_version": "1.5.0",
     "state": {
      "_dom_classes": [],
      "_model_module": "@jupyter-widgets/controls",
      "_model_module_version": "1.5.0",
      "_model_name": "HBoxModel",
      "_view_count": null,
      "_view_module": "@jupyter-widgets/controls",
      "_view_module_version": "1.5.0",
      "_view_name": "HBoxView",
      "box_style": "",
      "children": [
       "IPY_MODEL_a4b45a68f174415982cc6fa9970356a2",
       "IPY_MODEL_d9d540b0af60408f9036350c430dc736",
       "IPY_MODEL_e5b80f10418d45d9a3c07a01f34646c8"
      ],
      "layout": "IPY_MODEL_c5a34f21083d40d7806deedb1a27091c"
     }
    },
    "a4b45a68f174415982cc6fa9970356a2": {
     "model_module": "@jupyter-widgets/controls",
     "model_name": "HTMLModel",
     "model_module_version": "1.5.0",
     "state": {
      "_dom_classes": [],
      "_model_module": "@jupyter-widgets/controls",
      "_model_module_version": "1.5.0",
      "_model_name": "HTMLModel",
      "_view_count": null,
      "_view_module": "@jupyter-widgets/controls",
      "_view_module_version": "1.5.0",
      "_view_name": "HTMLView",
      "description": "",
      "description_tooltip": null,
      "layout": "IPY_MODEL_b6d0e685932d4ff6890402340fac8e4f",
      "placeholder": "​",
      "style": "IPY_MODEL_0365e887350f43239e566138993a2fd7",
      "value": "epoch:  45%"
     }
    },
    "d9d540b0af60408f9036350c430dc736": {
     "model_module": "@jupyter-widgets/controls",
     "model_name": "FloatProgressModel",
     "model_module_version": "1.5.0",
     "state": {
      "_dom_classes": [],
      "_model_module": "@jupyter-widgets/controls",
      "_model_module_version": "1.5.0",
      "_model_name": "FloatProgressModel",
      "_view_count": null,
      "_view_module": "@jupyter-widgets/controls",
      "_view_module_version": "1.5.0",
      "_view_name": "ProgressView",
      "bar_style": "",
      "description": "",
      "description_tooltip": null,
      "layout": "IPY_MODEL_723cc87c2978469ea99d683ec2e65803",
      "max": 20,
      "min": 0,
      "orientation": "horizontal",
      "style": "IPY_MODEL_baa1e420ab8a4d718e674a44aefddac6",
      "value": 9
     }
    },
    "e5b80f10418d45d9a3c07a01f34646c8": {
     "model_module": "@jupyter-widgets/controls",
     "model_name": "HTMLModel",
     "model_module_version": "1.5.0",
     "state": {
      "_dom_classes": [],
      "_model_module": "@jupyter-widgets/controls",
      "_model_module_version": "1.5.0",
      "_model_name": "HTMLModel",
      "_view_count": null,
      "_view_module": "@jupyter-widgets/controls",
      "_view_module_version": "1.5.0",
      "_view_name": "HTMLView",
      "description": "",
      "description_tooltip": null,
      "layout": "IPY_MODEL_6418bc69a82f48a5a12dd8170f381513",
      "placeholder": "​",
      "style": "IPY_MODEL_603863aaa4bc4aa895217787ed5f1d44",
      "value": " 9/20 [1:23:08&lt;1:41:38, 554.45s/it]"
     }
    },
    "c5a34f21083d40d7806deedb1a27091c": {
     "model_module": "@jupyter-widgets/base",
     "model_name": "LayoutModel",
     "model_module_version": "1.2.0",
     "state": {
      "_model_module": "@jupyter-widgets/base",
      "_model_module_version": "1.2.0",
      "_model_name": "LayoutModel",
      "_view_count": null,
      "_view_module": "@jupyter-widgets/base",
      "_view_module_version": "1.2.0",
      "_view_name": "LayoutView",
      "align_content": null,
      "align_items": null,
      "align_self": null,
      "border": null,
      "bottom": null,
      "display": null,
      "flex": null,
      "flex_flow": null,
      "grid_area": null,
      "grid_auto_columns": null,
      "grid_auto_flow": null,
      "grid_auto_rows": null,
      "grid_column": null,
      "grid_gap": null,
      "grid_row": null,
      "grid_template_areas": null,
      "grid_template_columns": null,
      "grid_template_rows": null,
      "height": null,
      "justify_content": null,
      "justify_items": null,
      "left": null,
      "margin": null,
      "max_height": null,
      "max_width": null,
      "min_height": null,
      "min_width": null,
      "object_fit": null,
      "object_position": null,
      "order": null,
      "overflow": null,
      "overflow_x": null,
      "overflow_y": null,
      "padding": null,
      "right": null,
      "top": null,
      "visibility": null,
      "width": null
     }
    },
    "b6d0e685932d4ff6890402340fac8e4f": {
     "model_module": "@jupyter-widgets/base",
     "model_name": "LayoutModel",
     "model_module_version": "1.2.0",
     "state": {
      "_model_module": "@jupyter-widgets/base",
      "_model_module_version": "1.2.0",
      "_model_name": "LayoutModel",
      "_view_count": null,
      "_view_module": "@jupyter-widgets/base",
      "_view_module_version": "1.2.0",
      "_view_name": "LayoutView",
      "align_content": null,
      "align_items": null,
      "align_self": null,
      "border": null,
      "bottom": null,
      "display": null,
      "flex": null,
      "flex_flow": null,
      "grid_area": null,
      "grid_auto_columns": null,
      "grid_auto_flow": null,
      "grid_auto_rows": null,
      "grid_column": null,
      "grid_gap": null,
      "grid_row": null,
      "grid_template_areas": null,
      "grid_template_columns": null,
      "grid_template_rows": null,
      "height": null,
      "justify_content": null,
      "justify_items": null,
      "left": null,
      "margin": null,
      "max_height": null,
      "max_width": null,
      "min_height": null,
      "min_width": null,
      "object_fit": null,
      "object_position": null,
      "order": null,
      "overflow": null,
      "overflow_x": null,
      "overflow_y": null,
      "padding": null,
      "right": null,
      "top": null,
      "visibility": null,
      "width": null
     }
    },
    "0365e887350f43239e566138993a2fd7": {
     "model_module": "@jupyter-widgets/controls",
     "model_name": "DescriptionStyleModel",
     "model_module_version": "1.5.0",
     "state": {
      "_model_module": "@jupyter-widgets/controls",
      "_model_module_version": "1.5.0",
      "_model_name": "DescriptionStyleModel",
      "_view_count": null,
      "_view_module": "@jupyter-widgets/base",
      "_view_module_version": "1.2.0",
      "_view_name": "StyleView",
      "description_width": ""
     }
    },
    "723cc87c2978469ea99d683ec2e65803": {
     "model_module": "@jupyter-widgets/base",
     "model_name": "LayoutModel",
     "model_module_version": "1.2.0",
     "state": {
      "_model_module": "@jupyter-widgets/base",
      "_model_module_version": "1.2.0",
      "_model_name": "LayoutModel",
      "_view_count": null,
      "_view_module": "@jupyter-widgets/base",
      "_view_module_version": "1.2.0",
      "_view_name": "LayoutView",
      "align_content": null,
      "align_items": null,
      "align_self": null,
      "border": null,
      "bottom": null,
      "display": null,
      "flex": null,
      "flex_flow": null,
      "grid_area": null,
      "grid_auto_columns": null,
      "grid_auto_flow": null,
      "grid_auto_rows": null,
      "grid_column": null,
      "grid_gap": null,
      "grid_row": null,
      "grid_template_areas": null,
      "grid_template_columns": null,
      "grid_template_rows": null,
      "height": null,
      "justify_content": null,
      "justify_items": null,
      "left": null,
      "margin": null,
      "max_height": null,
      "max_width": null,
      "min_height": null,
      "min_width": null,
      "object_fit": null,
      "object_position": null,
      "order": null,
      "overflow": null,
      "overflow_x": null,
      "overflow_y": null,
      "padding": null,
      "right": null,
      "top": null,
      "visibility": null,
      "width": null
     }
    },
    "baa1e420ab8a4d718e674a44aefddac6": {
     "model_module": "@jupyter-widgets/controls",
     "model_name": "ProgressStyleModel",
     "model_module_version": "1.5.0",
     "state": {
      "_model_module": "@jupyter-widgets/controls",
      "_model_module_version": "1.5.0",
      "_model_name": "ProgressStyleModel",
      "_view_count": null,
      "_view_module": "@jupyter-widgets/base",
      "_view_module_version": "1.2.0",
      "_view_name": "StyleView",
      "bar_color": null,
      "description_width": ""
     }
    },
    "6418bc69a82f48a5a12dd8170f381513": {
     "model_module": "@jupyter-widgets/base",
     "model_name": "LayoutModel",
     "model_module_version": "1.2.0",
     "state": {
      "_model_module": "@jupyter-widgets/base",
      "_model_module_version": "1.2.0",
      "_model_name": "LayoutModel",
      "_view_count": null,
      "_view_module": "@jupyter-widgets/base",
      "_view_module_version": "1.2.0",
      "_view_name": "LayoutView",
      "align_content": null,
      "align_items": null,
      "align_self": null,
      "border": null,
      "bottom": null,
      "display": null,
      "flex": null,
      "flex_flow": null,
      "grid_area": null,
      "grid_auto_columns": null,
      "grid_auto_flow": null,
      "grid_auto_rows": null,
      "grid_column": null,
      "grid_gap": null,
      "grid_row": null,
      "grid_template_areas": null,
      "grid_template_columns": null,
      "grid_template_rows": null,
      "height": null,
      "justify_content": null,
      "justify_items": null,
      "left": null,
      "margin": null,
      "max_height": null,
      "max_width": null,
      "min_height": null,
      "min_width": null,
      "object_fit": null,
      "object_position": null,
      "order": null,
      "overflow": null,
      "overflow_x": null,
      "overflow_y": null,
      "padding": null,
      "right": null,
      "top": null,
      "visibility": null,
      "width": null
     }
    },
    "603863aaa4bc4aa895217787ed5f1d44": {
     "model_module": "@jupyter-widgets/controls",
     "model_name": "DescriptionStyleModel",
     "model_module_version": "1.5.0",
     "state": {
      "_model_module": "@jupyter-widgets/controls",
      "_model_module_version": "1.5.0",
      "_model_name": "DescriptionStyleModel",
      "_view_count": null,
      "_view_module": "@jupyter-widgets/base",
      "_view_module_version": "1.2.0",
      "_view_name": "StyleView",
      "description_width": ""
     }
    }
   }
  }
 },
 "cells": [
  {
   "cell_type": "markdown",
   "source": [
    "# Imports"
   ],
   "metadata": {
    "id": "1njaP5L4RP2c"
   }
  },
  {
   "cell_type": "code",
   "source": [
    "import numpy as np\n",
    "import pandas as pd\n",
    "import torch\n",
    "import torch.nn as nn\n",
    "import torch.nn.functional as F\n",
    "\n",
    "from collections import Counter\n",
    "from matplotlib import pyplot as plt\n",
    "from pathlib import Path\n",
    "from PIL import Image\n",
    "from torch.utils.data import Dataset, DataLoader\n",
    "from torch.utils.data.sampler import WeightedRandomSampler\n",
    "from torchvision import datasets, transforms, models\n",
    "from tqdm.notebook import tqdm\n",
    "\n",
    "%matplotlib inline\n",
    "\n",
    "import warnings\n",
    "warnings.filterwarnings(action='ignore', category=DeprecationWarning)"
   ],
   "metadata": {
    "colab": {
     "base_uri": "https://localhost:8080/"
    },
    "id": "gNGnd6I5M6_1",
    "outputId": "a1a26453-d44d-4518-ba8b-09d8152ef2c8"
   },
   "execution_count": 25,
   "outputs": []
  },
  {
   "cell_type": "code",
   "source": [
    "# Different modes of dataset\n",
    "DATA_MODES = ['train', 'test']\n",
    "# All images are scaled to size 224x224 px\n",
    "RESCALE_SIZE = 224\n",
    "# Use cuda\n",
    "DEVICE = torch.device(\"cuda\")\n",
    "# Data loaders\n",
    "BATCH_SIZE= 2000\n",
    "# Parallel computing\n",
    "N_CORES = 12\n",
    "\n",
    "\"use_cuda\", torch.cuda.is_available()"
   ],
   "metadata": {
    "colab": {
     "base_uri": "https://localhost:8080/"
    },
    "id": "VyPDXQMfQCOD",
    "outputId": "ef28c8bd-efc9-4908-f380-b47abe503bad"
   },
   "execution_count": 1,
   "outputs": [
    {
     "ename": "NameError",
     "evalue": "name 'torch' is not defined",
     "output_type": "error",
     "traceback": [
      "\u001B[1;31m---------------------------------------------------------------------------\u001B[0m",
      "\u001B[1;31mNameError\u001B[0m                                 Traceback (most recent call last)",
      "Input \u001B[1;32mIn [1]\u001B[0m, in \u001B[0;36m<cell line: 6>\u001B[1;34m()\u001B[0m\n\u001B[0;32m      4\u001B[0m RESCALE_SIZE \u001B[38;5;241m=\u001B[39m \u001B[38;5;241m224\u001B[39m\n\u001B[0;32m      5\u001B[0m \u001B[38;5;66;03m# Use cuda\u001B[39;00m\n\u001B[1;32m----> 6\u001B[0m DEVICE \u001B[38;5;241m=\u001B[39m \u001B[43mtorch\u001B[49m\u001B[38;5;241m.\u001B[39mdevice(\u001B[38;5;124m\"\u001B[39m\u001B[38;5;124mcuda\u001B[39m\u001B[38;5;124m\"\u001B[39m)\n\u001B[0;32m      7\u001B[0m \u001B[38;5;66;03m# Data loaders\u001B[39;00m\n\u001B[0;32m      8\u001B[0m BATCH_SIZE\u001B[38;5;241m=\u001B[39m \u001B[38;5;241m2000\u001B[39m\n",
      "\u001B[1;31mNameError\u001B[0m: name 'torch' is not defined"
     ]
    }
   ]
  },
  {
   "cell_type": "code",
   "source": [
    "!nvidia-smi"
   ],
   "metadata": {
    "colab": {
     "base_uri": "https://localhost:8080/"
    },
    "id": "XICa42TeRW_p",
    "outputId": "0fbe35bd-456c-4b97-f652-51c2b8dd1b3f"
   },
   "execution_count": 27,
   "outputs": [
    {
     "name": "stdout",
     "output_type": "stream",
     "text": [
      "Mon Nov 28 02:00:01 2022       \n",
      "+-----------------------------------------------------------------------------+\n",
      "| NVIDIA-SMI 522.06       Driver Version: 522.06       CUDA Version: 11.8     |\n",
      "|-------------------------------+----------------------+----------------------+\n",
      "| GPU  Name            TCC/WDDM | Bus-Id        Disp.A | Volatile Uncorr. ECC |\n",
      "| Fan  Temp  Perf  Pwr:Usage/Cap|         Memory-Usage | GPU-Util  Compute M. |\n",
      "|                               |                      |               MIG M. |\n",
      "|===============================+======================+======================|\n",
      "|   0  NVIDIA GeForce ... WDDM  | 00000000:01:00.0 Off |                  N/A |\n",
      "| N/A   49C    P8    10W /  N/A |    601MiB /  6144MiB |      0%      Default |\n",
      "|                               |                      |                  N/A |\n",
      "+-------------------------------+----------------------+----------------------+\n",
      "                                                                               \n",
      "+-----------------------------------------------------------------------------+\n",
      "| Processes:                                                                  |\n",
      "|  GPU   GI   CI        PID   Type   Process name                  GPU Memory |\n",
      "|        ID   ID                                                   Usage      |\n",
      "|=============================================================================|\n",
      "|    0   N/A  N/A      5804    C+G   ...n64\\EpicGamesLauncher.exe    N/A      |\n",
      "|    0   N/A  N/A     11104    C+G   ...ser\\Application\\brave.exe    N/A      |\n",
      "+-----------------------------------------------------------------------------+\n"
     ]
    }
   ]
  },
  {
   "cell_type": "code",
   "source": [
    "from torch.backends import cudnn\n",
    "\n",
    "# Make computations reproducible\n",
    "torch.manual_seed(7)\n",
    "np.random.seed(7)\n",
    "cudnn.benchmark = True\n",
    "torch.use_deterministic_algorithms(False)\n",
    "\n",
    "from PIL import Image, ImageFile\n",
    "ImageFile.LOAD_TRUNCATED_IMAGES = True"
   ],
   "metadata": {
    "id": "byS9JiAENd-q"
   },
   "execution_count": 28,
   "outputs": []
  },
  {
   "cell_type": "markdown",
   "source": [
    "# Downloading dataset"
   ],
   "metadata": {
    "id": "O5z1qyWUSkNO"
   }
  },
  {
   "cell_type": "code",
   "source": [
    "# Download dataset from kaggle\n",
    "!pip install -q kaggle\n",
    "!kaggle competitions download -c journey-springfield"
   ],
   "metadata": {
    "colab": {
     "base_uri": "https://localhost:8080/"
    },
    "id": "zKS-p_41TPGb",
    "outputId": "16011ab0-081f-4e93-aab8-6ec10a8b7884"
   },
   "execution_count": 29,
   "outputs": [
    {
     "name": "stdout",
     "output_type": "stream",
     "text": [
      "journey-springfield.zip: Skipping, found more recently modified local copy (use --force to force download)\n"
     ]
    }
   ]
  },
  {
   "cell_type": "code",
   "source": [
    "# Unzip dataset\n",
    "!unzip -q ./journey-springfield.zip -d /data"
   ],
   "metadata": {
    "id": "Bp7wVi9iTn5t"
   },
   "execution_count": 30,
   "outputs": [
    {
     "name": "stderr",
     "output_type": "stream",
     "text": [
      "'unzip' is not recognized as an internal or external command,\n",
      "operable program or batch file.\n"
     ]
    }
   ]
  },
  {
   "cell_type": "code",
   "source": [
    "!dir \"./data/train/simpsons_dataset\""
   ],
   "metadata": {
    "colab": {
     "base_uri": "https://localhost:8080/"
    },
    "id": "NiWC-jDBUNk3",
    "outputId": "e567f56f-4500-4655-a955-591f714d4c24"
   },
   "execution_count": 31,
   "outputs": [
    {
     "name": "stdout",
     "output_type": "stream",
     "text": [
      " Volume in drive C has no label.\n",
      " Volume Serial Number is 8ADD-B58A\n",
      "\n",
      " Directory of C:\\Users\\Alexey\\PycharmProjects\\deep-learning-mptu\\notebooks\\image_classification\\data\\train\\simpsons_dataset\n",
      "\n",
      "28.11.2022  00:21    <DIR>          .\n",
      "28.11.2022  00:17    <DIR>          ..\n",
      "28.11.2022  00:17    <DIR>          abraham_grampa_simpson\n",
      "28.11.2022  00:17    <DIR>          agnes_skinner\n",
      "28.11.2022  00:17    <DIR>          apu_nahasapeemapetilon\n",
      "28.11.2022  00:17    <DIR>          barney_gumble\n",
      "28.11.2022  00:18    <DIR>          bart_simpson\n",
      "28.11.2022  00:18    <DIR>          carl_carlson\n",
      "28.11.2022  00:18    <DIR>          charles_montgomery_burns\n",
      "28.11.2022  00:18    <DIR>          chief_wiggum\n",
      "28.11.2022  00:18    <DIR>          cletus_spuckler\n",
      "28.11.2022  00:18    <DIR>          comic_book_guy\n",
      "28.11.2022  00:18    <DIR>          disco_stu\n",
      "28.11.2022  00:19    <DIR>          edna_krabappel\n",
      "28.11.2022  00:19    <DIR>          fat_tony\n",
      "28.11.2022  00:19    <DIR>          gil\n",
      "28.11.2022  00:19    <DIR>          groundskeeper_willie\n",
      "28.11.2022  00:19    <DIR>          homer_simpson\n",
      "28.11.2022  00:19    <DIR>          kent_brockman\n",
      "28.11.2022  00:19    <DIR>          krusty_the_clown\n",
      "28.11.2022  00:19    <DIR>          lenny_leonard\n",
      "28.11.2022  00:19    <DIR>          lionel_hutz\n",
      "28.11.2022  00:20    <DIR>          lisa_simpson\n",
      "28.11.2022  00:20    <DIR>          maggie_simpson\n",
      "28.11.2022  00:20    <DIR>          marge_simpson\n",
      "28.11.2022  00:20    <DIR>          martin_prince\n",
      "28.11.2022  00:20    <DIR>          mayor_quimby\n",
      "28.11.2022  00:20    <DIR>          milhouse_van_houten\n",
      "28.11.2022  00:20    <DIR>          miss_hoover\n",
      "28.11.2022  00:21    <DIR>          moe_szyslak\n",
      "28.11.2022  00:21    <DIR>          ned_flanders\n",
      "28.11.2022  00:21    <DIR>          nelson_muntz\n",
      "28.11.2022  00:21    <DIR>          otto_mann\n",
      "28.11.2022  00:21    <DIR>          patty_bouvier\n",
      "28.11.2022  00:21    <DIR>          principal_skinner\n",
      "28.11.2022  00:21    <DIR>          professor_john_frink\n",
      "28.11.2022  00:21    <DIR>          rainier_wolfcastle\n",
      "28.11.2022  00:21    <DIR>          ralph_wiggum\n",
      "28.11.2022  00:21    <DIR>          selma_bouvier\n",
      "28.11.2022  00:21    <DIR>          sideshow_bob\n",
      "28.11.2022  00:21    <DIR>          sideshow_mel\n",
      "28.11.2022  00:21    <DIR>          snake_jailbird\n",
      "28.11.2022  00:21    <DIR>          troy_mcclure\n",
      "28.11.2022  00:21    <DIR>          waylon_smithers\n",
      "               0 File(s)              0 bytes\n",
      "              44 Dir(s)  202ÿ326ÿ364ÿ160 bytes free\n"
     ]
    }
   ]
  },
  {
   "cell_type": "code",
   "source": [
    "# Saving paths to train/test datasets\n",
    "DATA_DIR = \"./data/\"\n",
    "TRAIN_DIR = Path(DATA_DIR + 'train/simpsons_dataset')\n",
    "TEST_DIR = Path(DATA_DIR + 'testset/testset')"
   ],
   "metadata": {
    "id": "sqhrAYr4Rlyf"
   },
   "execution_count": 32,
   "outputs": []
  },
  {
   "cell_type": "markdown",
   "source": [
    "# Analyzing dataset"
   ],
   "metadata": {
    "id": "WHknHtsiUpcX"
   }
  },
  {
   "cell_type": "markdown",
   "source": [
    "Let's look if classes are balanced in dataset and make plan before starting train model."
   ],
   "metadata": {
    "id": "3KZNAT6oVcQ6"
   }
  },
  {
   "cell_type": "code",
   "source": [
    "train_files = [path.parent.name for path in TRAIN_DIR.rglob('*.jpg')]\n",
    "train_labels = pd.Series(train_files).value_counts().sort_values().to_frame(\"count\")\n",
    "test_files = [path for path in TEST_DIR.rglob('*.jpg')]\n",
    "train_labels"
   ],
   "metadata": {
    "colab": {
     "base_uri": "https://localhost:8080/",
     "height": 1000
    },
    "id": "SZjTmx1hV4sP",
    "outputId": "52df7763-2ed9-4adc-8db0-0ba01b8de9ad"
   },
   "execution_count": 33,
   "outputs": [
    {
     "data": {
      "text/plain": "                          count\nlionel_hutz                   3\ntroy_mcclure                  8\ndisco_stu                     8\nmiss_hoover                  17\ngil                          27\nfat_tony                     27\notto_mann                    32\nsideshow_mel                 40\nagnes_skinner                42\nrainier_wolfcastle           45\ncletus_spuckler              47\nsnake_jailbird               55\nprofessor_john_frink         65\nmartin_prince                71\npatty_bouvier                72\nralph_wiggum                 89\ncarl_carlson                 98\nselma_bouvier               103\nbarney_gumble               106\ngroundskeeper_willie        121\nmaggie_simpson              128\nwaylon_smithers             181\nmayor_quimby                246\nlenny_leonard               310\nnelson_muntz                358\nedna_krabappel              457\ncomic_book_guy              469\nkent_brockman               498\napu_nahasapeemapetilon      623\nsideshow_bob                877\nabraham_grampa_simpson      913\nchief_wiggum                986\nmilhouse_van_houten        1079\ncharles_montgomery_burns   1193\nprincipal_skinner          1194\nkrusty_the_clown           1206\nmarge_simpson              1291\nbart_simpson               1342\nlisa_simpson               1354\nmoe_szyslak                1452\nned_flanders               1454\nhomer_simpson              2246",
      "text/html": "<div>\n<style scoped>\n    .dataframe tbody tr th:only-of-type {\n        vertical-align: middle;\n    }\n\n    .dataframe tbody tr th {\n        vertical-align: top;\n    }\n\n    .dataframe thead th {\n        text-align: right;\n    }\n</style>\n<table border=\"1\" class=\"dataframe\">\n  <thead>\n    <tr style=\"text-align: right;\">\n      <th></th>\n      <th>count</th>\n    </tr>\n  </thead>\n  <tbody>\n    <tr>\n      <th>lionel_hutz</th>\n      <td>3</td>\n    </tr>\n    <tr>\n      <th>troy_mcclure</th>\n      <td>8</td>\n    </tr>\n    <tr>\n      <th>disco_stu</th>\n      <td>8</td>\n    </tr>\n    <tr>\n      <th>miss_hoover</th>\n      <td>17</td>\n    </tr>\n    <tr>\n      <th>gil</th>\n      <td>27</td>\n    </tr>\n    <tr>\n      <th>fat_tony</th>\n      <td>27</td>\n    </tr>\n    <tr>\n      <th>otto_mann</th>\n      <td>32</td>\n    </tr>\n    <tr>\n      <th>sideshow_mel</th>\n      <td>40</td>\n    </tr>\n    <tr>\n      <th>agnes_skinner</th>\n      <td>42</td>\n    </tr>\n    <tr>\n      <th>rainier_wolfcastle</th>\n      <td>45</td>\n    </tr>\n    <tr>\n      <th>cletus_spuckler</th>\n      <td>47</td>\n    </tr>\n    <tr>\n      <th>snake_jailbird</th>\n      <td>55</td>\n    </tr>\n    <tr>\n      <th>professor_john_frink</th>\n      <td>65</td>\n    </tr>\n    <tr>\n      <th>martin_prince</th>\n      <td>71</td>\n    </tr>\n    <tr>\n      <th>patty_bouvier</th>\n      <td>72</td>\n    </tr>\n    <tr>\n      <th>ralph_wiggum</th>\n      <td>89</td>\n    </tr>\n    <tr>\n      <th>carl_carlson</th>\n      <td>98</td>\n    </tr>\n    <tr>\n      <th>selma_bouvier</th>\n      <td>103</td>\n    </tr>\n    <tr>\n      <th>barney_gumble</th>\n      <td>106</td>\n    </tr>\n    <tr>\n      <th>groundskeeper_willie</th>\n      <td>121</td>\n    </tr>\n    <tr>\n      <th>maggie_simpson</th>\n      <td>128</td>\n    </tr>\n    <tr>\n      <th>waylon_smithers</th>\n      <td>181</td>\n    </tr>\n    <tr>\n      <th>mayor_quimby</th>\n      <td>246</td>\n    </tr>\n    <tr>\n      <th>lenny_leonard</th>\n      <td>310</td>\n    </tr>\n    <tr>\n      <th>nelson_muntz</th>\n      <td>358</td>\n    </tr>\n    <tr>\n      <th>edna_krabappel</th>\n      <td>457</td>\n    </tr>\n    <tr>\n      <th>comic_book_guy</th>\n      <td>469</td>\n    </tr>\n    <tr>\n      <th>kent_brockman</th>\n      <td>498</td>\n    </tr>\n    <tr>\n      <th>apu_nahasapeemapetilon</th>\n      <td>623</td>\n    </tr>\n    <tr>\n      <th>sideshow_bob</th>\n      <td>877</td>\n    </tr>\n    <tr>\n      <th>abraham_grampa_simpson</th>\n      <td>913</td>\n    </tr>\n    <tr>\n      <th>chief_wiggum</th>\n      <td>986</td>\n    </tr>\n    <tr>\n      <th>milhouse_van_houten</th>\n      <td>1079</td>\n    </tr>\n    <tr>\n      <th>charles_montgomery_burns</th>\n      <td>1193</td>\n    </tr>\n    <tr>\n      <th>principal_skinner</th>\n      <td>1194</td>\n    </tr>\n    <tr>\n      <th>krusty_the_clown</th>\n      <td>1206</td>\n    </tr>\n    <tr>\n      <th>marge_simpson</th>\n      <td>1291</td>\n    </tr>\n    <tr>\n      <th>bart_simpson</th>\n      <td>1342</td>\n    </tr>\n    <tr>\n      <th>lisa_simpson</th>\n      <td>1354</td>\n    </tr>\n    <tr>\n      <th>moe_szyslak</th>\n      <td>1452</td>\n    </tr>\n    <tr>\n      <th>ned_flanders</th>\n      <td>1454</td>\n    </tr>\n    <tr>\n      <th>homer_simpson</th>\n      <td>2246</td>\n    </tr>\n  </tbody>\n</table>\n</div>"
     },
     "execution_count": 33,
     "metadata": {},
     "output_type": "execute_result"
    }
   ]
  },
  {
   "cell_type": "markdown",
   "source": [
    "Dataset is very unbalanced, and model eventually will show us bad scores for classes with low number of images.\n",
    "So we need to consider data augmentation to balance dataset."
   ],
   "metadata": {
    "id": "-CnVHDlnWLs_"
   }
  },
  {
   "cell_type": "markdown",
   "source": [
    "# Data augmentation"
   ],
   "metadata": {
    "id": "BiXDMMKIoQFI"
   }
  },
  {
   "cell_type": "markdown",
   "source": [
    "Let's use random order of transforms to apply augmentation to our dataset. We're not gonna divide dataset on train and valid."
   ],
   "metadata": {
    "id": "mtR1b1BppAlk"
   }
  },
  {
   "cell_type": "code",
   "source": [
    "augmentation = transforms.RandomOrder([\n",
    "    transforms.RandomHorizontalFlip(p=0.5),\n",
    "    transforms.RandomRotation(degrees=(-30, 30)),\n",
    "    transforms.Compose([\n",
    "        transforms.Resize(size=300, max_size=301),\n",
    "        transforms.CenterCrop(size=300),\n",
    "        transforms.RandomCrop(250)\n",
    "    ]),\n",
    "])\n",
    "def _my_normalization(x):\n",
    "    return np.array(x, dtype=\"float32\") / 255.0\n",
    "\n",
    "train_transforms = transforms.Compose([\n",
    "    augmentation,\n",
    "    transforms.Resize(size=(RESCALE_SIZE, RESCALE_SIZE)),\n",
    "    # Converting PIL image to Tensor and normalazing it\n",
    "    transforms.Lambda(_my_normalization),\n",
    "    transforms.ToTensor(),\n",
    "    transforms.Normalize([0.485, 0.456, 0.406], [0.229, 0.224, 0.225]) ,\n",
    "])"
   ],
   "metadata": {
    "id": "ucbMc5cfpKYR"
   },
   "execution_count": 34,
   "outputs": []
  },
  {
   "cell_type": "code",
   "source": [
    "# Create dataset obj\n",
    "train_dataset = datasets.ImageFolder(root=TRAIN_DIR, transform=train_transforms)"
   ],
   "metadata": {
    "id": "aK9cIi9sV-R7"
   },
   "execution_count": 35,
   "outputs": []
  },
  {
   "cell_type": "code",
   "source": [
    "class_count = Counter(train_dataset.targets)\n",
    "class_weights = {i: 1/c for i, c in class_count.items()}\n",
    "sample_weights = [0] * len(train_dataset)\n",
    "for i, (data, label) in enumerate(tqdm(train_dataset)):\n",
    "    class_weight = class_weights[label]\n",
    "    sample_weights[i] = class_weight"
   ],
   "metadata": {
    "colab": {
     "base_uri": "https://localhost:8080/",
     "height": 49,
     "referenced_widgets": [
      "8aa9741d76b34dc79364f2f9a3312f9b",
      "18e5f62058c24fb8b7a893248efb52ac",
      "8f590708c1414f21a8e186e70dd9cda5",
      "fec0d488f7e7453286d303dc34936ae4",
      "826a0d9b55c34cf5ae1bb5ec57f1ac00",
      "dd47a4f0ce064e2995c4cd670b2e61da",
      "4a3651b096314bbe953fea46fe6cc05a",
      "16fc61036368404cb6a4a5c1568e8782",
      "223d17ef54744bd383c36b65af9a1d71",
      "800b4bf562bf4d4e964cc2ceca858896",
      "5b74f9a858d54f29ba1362deeb543998"
     ]
    },
    "id": "WEOuu735xclW",
    "outputId": "27e78aa3-36ed-4d22-b1f2-f15267b06893"
   },
   "execution_count": 36,
   "outputs": [
    {
     "data": {
      "text/plain": "  0%|          | 0/20933 [00:00<?, ?it/s]",
      "application/vnd.jupyter.widget-view+json": {
       "version_major": 2,
       "version_minor": 0,
       "model_id": "1e136d71b80344eb8f33d3cd30f375b6"
      }
     },
     "metadata": {},
     "output_type": "display_data"
    }
   ]
  },
  {
   "cell_type": "code",
   "source": [
    "N = max(class_count.values()) * len(class_count)  # fit to max\n",
    "train_sampler = WeightedRandomSampler(sample_weights, num_samples=N, replacement=True)\n",
    "train_loader = DataLoader(train_dataset, batch_size=BATCH_SIZE, sampler=train_sampler,\n",
    "                          num_workers=8, pin_memory=True, pin_memory_device=\"cuda\")"
   ],
   "metadata": {
    "id": "GSC5icBiFDei"
   },
   "execution_count": 50,
   "outputs": []
  },
  {
   "cell_type": "markdown",
   "source": [
    "Let's give a look at some images in dataset after augmentation."
   ],
   "metadata": {
    "id": "NsddDKfjEHJ6"
   }
  },
  {
   "cell_type": "code",
   "source": [
    "def imshow(inp, title=None, plt_ax=plt, default=False):\n",
    "    \"\"\"Imshow for tensors\"\"\"\n",
    "    inp = inp.numpy().transpose((1, 2, 0))\n",
    "    mean = np.array([0.485, 0.456, 0.406])\n",
    "    std = np.array([0.229, 0.224, 0.225])\n",
    "    inp = std * inp + mean\n",
    "    inp = np.clip(inp, 0, 1)\n",
    "    plt_ax.imshow(inp)\n",
    "    if title is not None:\n",
    "        plt_ax.set_title(title)\n",
    "    plt_ax.grid(False)"
   ],
   "metadata": {
    "id": "HZFQd0GkDqBn"
   },
   "execution_count": 51,
   "outputs": []
  },
  {
   "cell_type": "code",
   "execution_count": 52,
   "outputs": [],
   "source": [
    "# axes = plt.subplots(nrows=3, ncols=4, figsize=(12, 9))[1]\n",
    "# data, labels = next(iter(train_loader))\n",
    "# for ax, d, l in zip(axes.flatten(), data, labels):\n",
    "#     imshow(d.data, title=train_dataset.classes[l], plt_ax=ax)"
   ],
   "metadata": {
    "collapsed": false
   }
  },
  {
   "cell_type": "markdown",
   "source": [],
   "metadata": {
    "id": "GBC0Hf6VE0tx"
   }
  },
  {
   "cell_type": "code",
   "source": [
    "def fit_epoch(model, train_loader, criterion, optimizer, scheduler):\n",
    "    running_loss = 0.0\n",
    "    running_corrects = 0\n",
    "    processed_data = 0\n",
    "    with tqdm(train_loader, unit=\"batch\") as tepoch:\n",
    "        for inputs, labels in tepoch:\n",
    "            inputs, labels = inputs.to(DEVICE), labels.to(DEVICE)\n",
    "            optimizer.zero_grad()\n",
    "\n",
    "            outputs = model(inputs)\n",
    "            loss = criterion(outputs, labels)\n",
    "            loss.backward()\n",
    "            optimizer.step()\n",
    "            preds = torch.argmax(outputs, 1)\n",
    "            running_loss += loss.item() * inputs.size(0)\n",
    "            running_corrects += torch.sum(preds == labels.data)\n",
    "            processed_data += inputs.size(0)\n",
    "    scheduler.step()\n",
    "    train_loss = running_loss / processed_data\n",
    "    train_acc = running_corrects.cpu().numpy() / processed_data\n",
    "    return train_loss, train_acc"
   ],
   "metadata": {
    "id": "aAQeFEWUHe74"
   },
   "execution_count": 53,
   "outputs": []
  },
  {
   "cell_type": "code",
   "source": [
    "def train(model, train_loader, epochs, batch_size):\n",
    "\n",
    "    history = []\n",
    "    log_template = \"\\nEpoch {ep:03d} train_loss: {t_loss:0.4f} \\\n",
    "    train_acc {t_acc:0.4f}\"\n",
    "\n",
    "    with tqdm(desc=\"epoch\", total=epochs) as pbar_outer:\n",
    "        opt = torch.optim.Adam(model.parameters())\n",
    "        criterion = nn.CrossEntropyLoss()\n",
    "        scheduler = torch.optim.lr_scheduler.StepLR(opt, step_size=7, gamma=0.1)\n",
    "\n",
    "        for epoch in range(epochs):\n",
    "            train_loss, train_acc = fit_epoch(model, train_loader,\n",
    "                                              criterion, opt, scheduler)\n",
    "            print(\"loss\", train_loss)\n",
    "            \n",
    "            history.append((train_loss, train_acc))\n",
    "            \n",
    "            pbar_outer.update(1)\n",
    "            tqdm.write(log_template.format(ep=epoch+1, t_loss=train_loss,\n",
    "                                           t_acc=train_acc))\n",
    "             \n",
    "    return history"
   ],
   "metadata": {
    "id": "HttiFV1pNSkr"
   },
   "execution_count": 54,
   "outputs": []
  },
  {
   "cell_type": "markdown",
   "source": [
    "We're gonna use ResNet and apply fine tuning, try"
   ],
   "metadata": {
    "id": "ECblgDviRYei"
   }
  },
  {
   "cell_type": "code",
   "source": [
    "def set_parameter_requires_grad(model, feature_extracting):\n",
    "    for param in model.parameters():\n",
    "            param.requires_grad = feature_extracting"
   ],
   "metadata": {
    "id": "lZZQ6ssZU8Ip"
   },
   "execution_count": 55,
   "outputs": []
  },
  {
   "cell_type": "code",
   "source": [
    "def initialize_model(num_classes, feature_extract=False, use_pretrained=True):\n",
    "    if use_pretrained:\n",
    "        print('[INFO]: Loading pre-trained weights')\n",
    "    else:\n",
    "        print('[INFO]: Not loading pre-trained weights')\n",
    "    model = models.shufflenet_v2_x0_5(weights=models.ShuffleNet_V2_X0_5_Weights.IMAGENET1K_V1)\n",
    "    if feature_extract:\n",
    "        print('[INFO]: Fine-tuning all layers...')\n",
    "    elif not feature_extract:\n",
    "        print('[INFO]: Freezing hidden layers...')\n",
    "    model.fc = nn.Sequential(\n",
    "        nn.Linear(in_features=1024, out_features=1024, bias=True),\n",
    "        nn.Hardswish(),\n",
    "        nn.Dropout(p=0.15, inplace=True),\n",
    "        nn.Linear(in_features=1024, out_features=1024, bias=True),\n",
    "        nn.Hardswish(),\n",
    "        nn.Dropout(p=0.15, inplace=True),\n",
    "        nn.Linear(in_features=1024, out_features=num_classes, bias=True)\n",
    "    )\n",
    "    return model"
   ],
   "metadata": {
    "id": "pxWyIUkgUq38"
   },
   "execution_count": 56,
   "outputs": []
  },
  {
   "cell_type": "code",
   "source": [
    "num_classes = len(train_labels.index)\n",
    "model = initialize_model(num_classes, feature_extract=False).to(DEVICE)\n",
    "model = model.cuda()\n",
    "model"
   ],
   "metadata": {
    "colab": {
     "base_uri": "https://localhost:8080/"
    },
    "id": "yLr3WJiCRFe4",
    "outputId": "966ceb8d-cd96-4916-d08e-d4a01be219c2"
   },
   "execution_count": null,
   "outputs": []
  },
  {
   "cell_type": "code",
   "source": [
    "history = train(model, train_loader, epochs=20, batch_size=BATCH_SIZE)\n",
    "history"
   ],
   "metadata": {
    "colab": {
     "base_uri": "https://localhost:8080/",
     "height": 535,
     "referenced_widgets": [
      "99c60a9931d54a9bb7fed3fb4cd60b74",
      "a4b45a68f174415982cc6fa9970356a2",
      "d9d540b0af60408f9036350c430dc736",
      "e5b80f10418d45d9a3c07a01f34646c8",
      "c5a34f21083d40d7806deedb1a27091c",
      "b6d0e685932d4ff6890402340fac8e4f",
      "0365e887350f43239e566138993a2fd7",
      "723cc87c2978469ea99d683ec2e65803",
      "baa1e420ab8a4d718e674a44aefddac6",
      "6418bc69a82f48a5a12dd8170f381513",
      "603863aaa4bc4aa895217787ed5f1d44"
     ]
    },
    "id": "62HWLtPtashC",
    "outputId": "26da1428-52af-4765-949a-16f825603e05"
   },
   "execution_count": null,
   "outputs": [
    {
     "data": {
      "text/plain": "epoch:   0%|          | 0/20 [00:00<?, ?it/s]",
      "application/vnd.jupyter.widget-view+json": {
       "version_major": 2,
       "version_minor": 0,
       "model_id": "4dd4d88ff49c47a2b3510a9b064b7c8e"
      }
     },
     "metadata": {},
     "output_type": "display_data"
    },
    {
     "data": {
      "text/plain": "  0%|          | 0/48 [00:00<?, ?batch/s]",
      "application/vnd.jupyter.widget-view+json": {
       "version_major": 2,
       "version_minor": 0,
       "model_id": "f482f3c8be784d9191705fd0294d0102"
      }
     },
     "metadata": {},
     "output_type": "display_data"
    }
   ]
  },
  {
   "cell_type": "markdown",
   "source": [
    "## Testing our model"
   ],
   "metadata": {
    "collapsed": false
   }
  },
  {
   "cell_type": "markdown",
   "source": [
    "Let's test our model on test dataset. Before that we need to customize dataset."
   ],
   "metadata": {
    "collapsed": false
   }
  },
  {
   "cell_type": "code",
   "execution_count": null,
   "outputs": [],
   "source": [
    "def predict(model, test_loader):\n",
    "    with torch.no_grad():\n",
    "        logits = []\n",
    "\n",
    "        for inputs in test_loader:\n",
    "            inputs = inputs.to(DEVICE)\n",
    "            model.eval()\n",
    "            outputs = model(inputs).cpu()\n",
    "            logits.append(outputs)\n",
    "\n",
    "    probs = nn.functional.softmax(torch.cat(logits), dim=-1).numpy()\n",
    "    return probs"
   ],
   "metadata": {
    "collapsed": false
   }
  },
  {
   "cell_type": "code",
   "execution_count": null,
   "outputs": [],
   "source": [
    "class TestDataset(Dataset):\n",
    "    def __init__(self, files):\n",
    "        self.files = files\n",
    "\n",
    "    def __getitem__(self, index):\n",
    "        test_transforms = transforms.Compose([\n",
    "            transforms.Resize(size=(RESCALE_SIZE, RESCALE_SIZE)),\n",
    "            transforms.Lambda(lambda x: np.array(x, dtype=\"float32\") / 255),\n",
    "            transforms.ToTensor(),\n",
    "            transforms.Normalize([0.485, 0.456, 0.406], [0.229, 0.224, 0.225]) ,\n",
    "        ])\n",
    "        img = Image.open(self.files[index]).convert('RGB')\n",
    "        return test_transforms(img)\n",
    "\n",
    "    def __len__(self):\n",
    "        return len(self.files)"
   ],
   "metadata": {
    "collapsed": false
   }
  },
  {
   "cell_type": "code",
   "execution_count": null,
   "outputs": [],
   "source": [
    "test_dataset = TestDataset(test_files)\n",
    "test_loader = DataLoader(test_dataset, shuffle=False, batch_size=BATCH_SIZE)\n",
    "probs = predict(model, test_loader)\n",
    "preds = [train_dataset.classes[i] for i in probs.argmax(axis=-1)]"
   ],
   "metadata": {
    "collapsed": false
   }
  },
  {
   "cell_type": "code",
   "execution_count": null,
   "outputs": [],
   "source": [
    "submission = pd.DataFrame({\n",
    "    \"Id\": [path.name for path in test_dataset.files],\n",
    "    \"Expected\": preds\n",
    "})\n",
    "submission.to_csv(\"/content/baseline_aug.csv\", index=False)\n",
    "submission"
   ],
   "metadata": {
    "collapsed": false
   }
  }
 ]
}
